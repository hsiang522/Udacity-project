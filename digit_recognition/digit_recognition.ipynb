{
 "cells": [
  {
   "cell_type": "markdown",
   "metadata": {},
   "source": [
    "# 机器学习工程师纳米学位\n",
    "## 深度学习\n",
    "## 项目：搭建一个数字识别项目\n",
    "\n",
    "在此文件中，我们提供给你了一个模板，以便于你根据项目的要求一步步实现要求的功能，进而完成整个项目。如果你认为需要导入另外的一些代码，请确保你正确导入了他们，并且包含在你的提交文件中。以**'练习'**开始的标题表示接下来你将开始实现你的项目。注意有一些练习是可选的，并且用**'可选'**标记出来了。\n",
    "\n",
    "在此文件中，有些示例代码已经提供给你，但你还需要实现更多的功能让项目成功运行。除非有明确要求，你无须修改任何已给出的代码。以'练习'开始的标题表示接下来的代码部分中有你必须要实现的功能。每一部分都会有详细的指导，需要实现的部分也会在注释中以'TODO'标出。请仔细阅读所有的提示！\n",
    "\n",
    "除了实现代码外，你还必须回答一些与项目和你的实现有关的问题。每一个需要你回答的问题都会以**'问题 X'**为标题。请仔细阅读每个问题，并且在问题后的**'回答'**文字框中写出完整的答案。我们将根据你对问题的回答和撰写代码所实现的功能来对你提交的项目进行评分。\n",
    "\n",
    ">**注意：** Code 和 Markdown 区域可通过 **Shift + Enter** 快捷键运行。此外，Markdown可以通过双击进入编辑模式。"
   ]
  },
  {
   "cell_type": "markdown",
   "metadata": {},
   "source": [
    "## 连接 mnist 的字符来合成数据\n",
    "\n",
    "你可以通过连接[MNIST](http://yann.lecun.com/exdb/mnist/)的字符来合成数据来训练这个模型。为了快速导入数据集，我们可以使用 [Keras Datasets](https://keras.io/datasets/#mnist-database-of-handwritten-digits) [中文文档](http://keras-cn.readthedocs.io/en/latest/other/datasets/#mnist)。"
   ]
  },
  {
   "cell_type": "markdown",
   "metadata": {},
   "source": [
    "### 载入 mnist"
   ]
  },
  {
   "cell_type": "code",
   "execution_count": 1,
   "metadata": {
    "collapsed": true
   },
   "outputs": [],
   "source": [
    "import os\n",
    "os.environ['KERAS_BACKEND']='tensorflow'"
   ]
  },
  {
   "cell_type": "code",
   "execution_count": 2,
   "metadata": {},
   "outputs": [
    {
     "name": "stderr",
     "output_type": "stream",
     "text": [
      "Using TensorFlow backend.\n"
     ]
    },
    {
     "name": "stdout",
     "output_type": "stream",
     "text": [
      "(60000, 28, 28) (60000,) (10000, 28, 28) (10000,) 60000 10000\n"
     ]
    }
   ],
   "source": [
    "from keras.datasets import mnist\n",
    "\n",
    "(X_raw, y_raw), (X_raw_test, y_raw_test) = mnist.load_data()\n",
    "\n",
    "n_train, n_test = X_raw.shape[0], X_raw_test.shape[0]\n",
    "\n",
    "print X_raw.shape, y_raw.shape, X_raw_test.shape, y_raw_test.shape, n_train, n_test"
   ]
  },
  {
   "cell_type": "markdown",
   "metadata": {},
   "source": [
    "### 可视化 mnist\n",
    "\n",
    "我们可以通过 matplotlib 来可视化我们的原始数据集。"
   ]
  },
  {
   "cell_type": "code",
   "execution_count": 3,
   "metadata": {
    "collapsed": true
   },
   "outputs": [],
   "source": [
    "import matplotlib.pyplot as plt  \n",
    "def plot_image(image):  \n",
    "    fig = plt.gcf()  \n",
    "    fig.set_size_inches(2,2)  \n",
    "    plt.imshow(image, cmap='gray') \n",
    "    plt.show() "
   ]
  },
  {
   "cell_type": "code",
   "execution_count": 4,
   "metadata": {},
   "outputs": [
    {
     "data": {
      "image/png": "[encoded data removed]",
      "text/plain": [
       "<matplotlib.figure.Figure at 0x7fecd34ac810>"
      ]
     },
     "metadata": {},
     "output_type": "display_data"
    },
    {
     "data": {
      "image/png": "[encoded data removed]",
      "text/plain": [
       "<matplotlib.figure.Figure at 0x7feccb3de250>"
      ]
     },
     "metadata": {},
     "output_type": "display_data"
    },
    {
     "data": {
      "image/png": "[encoded data removed]",
      "text/plain": [
       "<matplotlib.figure.Figure at 0x7feccb3de090>"
      ]
     },
     "metadata": {},
     "output_type": "display_data"
    }
   ],
   "source": [
    "import numpy as np\n",
    "y=np.hstack((X_raw[1],X_raw[2]))\n",
    "\n",
    "plot_image(X_raw[1])\n",
    "plot_image(X_raw[2])\n",
    "plot_image(y)"
   ]
  },
  {
   "cell_type": "code",
   "execution_count": 5,
   "metadata": {},
   "outputs": [
    {
     "data": {
      "image/png": "[encoded data removed]",
      "text/plain": [
       "<matplotlib.figure.Figure at 0x7feccb375ad0>"
      ]
     },
     "metadata": {
      "image/png": {
       "height": 257,
       "width": 370
      }
     },
     "output_type": "display_data"
    }
   ],
   "source": [
    "import matplotlib.pyplot as plt\n",
    "import random\n",
    "\n",
    "%matplotlib inline\n",
    "%config InlineBackend.figure_format = 'retina'\n",
    "\n",
    "for i in range(15):\n",
    "    plt.subplot(3, 5, i+1)\n",
    "    index = random.randint(0, n_train-1)\n",
    "    plt.title(str(y_raw[index]))  #y_raw 是指數字titile\n",
    "    plt.imshow(X_raw[index], cmap='gray')  #X_raw 是指數字圖片\n",
    "    plt.axis('off')"
   ]
  },
  {
   "cell_type": "markdown",
   "metadata": {},
   "source": [
    "### 练习：合成数据\n",
    "\n",
    "你需要随机取随机张图片，然后将它们拼接成新的图片。\n",
    "\n",
    "你需要设置20%的数据作为验证集，以保证模型没有过拟合。"
   ]
  },
  {
   "cell_type": "code",
   "execution_count": 6,
   "metadata": {
    "collapsed": true
   },
   "outputs": [],
   "source": [
    "import numpy as np\n",
    "from sklearn.model_selection import train_test_split\n",
    "\n",
    "n_class, n_len, width, height = 11, 5, 28, 28\n",
    "\n",
    "def generate_dataset(X, y):\n",
    "    X_len = X.shape[0]\n",
    "    \n",
    "    X_gen = np.zeros((X_len, height, width*n_len, 1), dtype=np.uint8)\n",
    "    y_gen = [np.zeros((X_len, n_class), dtype=np.uint8) for i in range(n_len)]\n",
    "    # TODO: 随机取1~5个数字，并拼接成新的图片\n",
    "    for index in range(X_len):      \n",
    "        digits = random.randint(1, 5)\n",
    "        \n",
    "        for i in range(digits):\n",
    "            j = random.randint(0, X_len-1) \n",
    "            X_gen[index,:,i*width:(i+1)*width,0] = X[j]\n",
    "            y_gen[i][index][y[j]] = 1\n",
    "            \n",
    "        for i in range(digits, n_len):\n",
    "            y_gen[i][index][10] = 1\n",
    "    \n",
    "    return X_gen, y_gen\n",
    "\n",
    "X_raw_train, X_raw_valid, y_raw_train, y_raw_valid = train_test_split(X_raw, y_raw, test_size=0.2, random_state=0)\n",
    "\n",
    "X_train, y_train = generate_dataset(X_raw_train, y_raw_train)\n",
    "X_valid, y_valid = generate_dataset(X_raw_valid, y_raw_valid)\n",
    "X_test, y_test = generate_dataset(X_raw_test, y_raw_test)\n",
    "\n",
    "#print X_test.shape, y_train.shape, X_valid.shape, y_valid.shape, X_test.shape, y_test.shape"
   ]
  },
  {
   "cell_type": "code",
   "execution_count": 7,
   "metadata": {},
   "outputs": [
    {
     "data": {
      "image/png": "[encoded data removed]",
      "text/plain": [
       "<matplotlib.figure.Figure at 0x7feccaca3f90>"
      ]
     },
     "metadata": {
      "image/png": {
       "height": 56,
       "width": 147
      }
     },
     "output_type": "display_data"
    },
    {
     "name": "stdout",
     "output_type": "stream",
     "text": [
      "[0 0 0 0 0 0 0 0 0 1 0]\n"
     ]
    }
   ],
   "source": [
    "plot_image(X_valid[1][:,:,0])\n",
    "\n",
    "print y_valid[1][1999]"
   ]
  },
  {
   "cell_type": "code",
   "execution_count": 8,
   "metadata": {},
   "outputs": [
    {
     "data": {
      "image/png": "[encoded data removed]",
      "text/plain": [
       "<matplotlib.figure.Figure at 0x7feccb26b9d0>"
      ]
     },
     "metadata": {
      "image/png": {
       "height": 246,
       "width": 370
      }
     },
     "output_type": "display_data"
    }
   ],
   "source": [
    "# 显示生成的图片\n",
    "for i in range(15):\n",
    "    plt.subplot(5, 3, i+1)\n",
    "    index = random.randint(0, n_test-1)\n",
    "    title = ''\n",
    "    for j in range(n_len):\n",
    "        title += str(np.argmax(y_test[j][index])) + ','\n",
    "    \n",
    "    plt.title(title)\n",
    "    plt.imshow(X_test[index][:,:,0], cmap='gray')\n",
    "    plt.axis('off')"
   ]
  },
  {
   "cell_type": "markdown",
   "metadata": {},
   "source": [
    "### 问题 1\n",
    "_你是如何合成数据集的？，为什么要分训练集，验证集和测试集？_\n",
    "\n",
    "**回答：**\n",
    "\n",
    "首先系統建立兩個零矩陣，分別是X_gen（X_len, height, width*n_len, 1）, y_gen（n_len, X_len, n_class），接著:\n",
    "1. 以X_gen的第一個維度X_len開始，利用 for迴圈1號 開始代入值index\n",
    "2. 我們可以將（X_len, height, width*n_len, 1）的四個維度分別看成（照片數量, 照片的高度像素, 合成後五張照片的寬度像素, 灰階的顏色深淺）\n",
    "3. 所以 for迴圈1號 開始從第一張照片，準備隨機開始代入 MNIST database 的像素資訊。此時的digits = random.randint(1, 5)代表會產生不定长数字序列\n",
    "4. 接著在 for迴圈2號 分別代入range(digits)，即拼接成新的圖片含五張照片的寬度\n",
    "5. 利用random.randint隨機選出j，利用X[j]取出隨機選中的一張照片，然後因 for迴圈2號跑五次，完成了第一張合成照片。\n",
    "6. 最後因 for迴圈1號跑X_len次，完成X_gen整個訓練集\n",
    "7. 我們可以將 y_gen（n_len, X_len, n_class）的三個維度分別看成（照片中有五個手寫數字, 每個手寫數字中隨機的數字, 每個隨機數字有n_class個）\n",
    "8. （n_len, X_len, n_class）的第三個維度利用y[j]在原本label的數字位置代入1，因為此矩陣其他都是零，方便日後用argmax選出。\n",
    "9. 最後一個for迴圈，將10代入剩下的照片空格中以便形成五格照片，這樣才能產生不定长数字序列。\n"
   ]
  },
  {
   "cell_type": "markdown",
   "metadata": {},
   "source": [
    "### 练习：设计并测试一个模型架构\n",
    "\n",
    "设计并实现一个能够识别数字序列的深度学习模型。为了产生用于测试的合成数字序列，你可以进行如下的设置：比如，你可以限制一个数据序列最多五个数字，并在你的深度网络上使用五个分类器。同时，你有必要准备一个额外的“空白”的字符，以处理相对较短的数字序列。\n",
    "\n",
    "在思考这个问题的时候有很多方面可以考虑：\n",
    "\n",
    "- 你的模型可以基于深度神经网络或者是卷积神经网络。\n",
    "- 你可以尝试是否在每个分类器间共享权值。\n",
    "- 你还可以在深度神经网络中使用循环网络来替换其中的分类层，并且将数字序列里的数字一个一个地输出。\n",
    "\n",
    "在使用 Keras 搭建模型的时候，你可以使用 [函数式模型 API](http://keras-cn.readthedocs.io/en/latest/models/model/) 的方式来搭建多输出模型。"
   ]
  },
  {
   "cell_type": "code",
   "execution_count": 9,
   "metadata": {
    "scrolled": false
   },
   "outputs": [
    {
     "name": "stdout",
     "output_type": "stream",
     "text": [
      "____________________________________________________________________________________________________\n",
      "Layer (type)                     Output Shape          Param #     Connected to                     \n",
      "====================================================================================================\n",
      "input_1 (InputLayer)             (None, 28, 140, 1)    0                                            \n",
      "____________________________________________________________________________________________________\n",
      "conv2d_1 (Conv2D)                (None, 28, 140, 60)   300         input_1[0][0]                    \n",
      "____________________________________________________________________________________________________\n",
      "conv2d_2 (Conv2D)                (None, 28, 140, 60)   14460       conv2d_1[0][0]                   \n",
      "____________________________________________________________________________________________________\n",
      "conv2d_3 (Conv2D)                (None, 28, 140, 60)   14460       conv2d_2[0][0]                   \n",
      "____________________________________________________________________________________________________\n",
      "max_pooling2d_1 (MaxPooling2D)   (None, 14, 70, 60)    0           conv2d_3[0][0]                   \n",
      "____________________________________________________________________________________________________\n",
      "conv2d_4 (Conv2D)                (None, 14, 70, 30)    7230        max_pooling2d_1[0][0]            \n",
      "____________________________________________________________________________________________________\n",
      "conv2d_5 (Conv2D)                (None, 14, 70, 30)    3630        conv2d_4[0][0]                   \n",
      "____________________________________________________________________________________________________\n",
      "conv2d_6 (Conv2D)                (None, 14, 70, 30)    3630        conv2d_5[0][0]                   \n",
      "____________________________________________________________________________________________________\n",
      "max_pooling2d_2 (MaxPooling2D)   (None, 7, 35, 30)     0           conv2d_6[0][0]                   \n",
      "____________________________________________________________________________________________________\n",
      "flatten_1 (Flatten)              (None, 7350)          0           max_pooling2d_2[0][0]            \n",
      "____________________________________________________________________________________________________\n",
      "dropout_1 (Dropout)              (None, 7350)          0           flatten_1[0][0]                  \n",
      "____________________________________________________________________________________________________\n",
      "dense_1 (Dense)                  (None, 11)            80861       dropout_1[0][0]                  \n",
      "____________________________________________________________________________________________________\n",
      "dense_2 (Dense)                  (None, 11)            80861       dropout_1[0][0]                  \n",
      "____________________________________________________________________________________________________\n",
      "dense_3 (Dense)                  (None, 11)            80861       dropout_1[0][0]                  \n",
      "____________________________________________________________________________________________________\n",
      "dense_4 (Dense)                  (None, 11)            80861       dropout_1[0][0]                  \n",
      "____________________________________________________________________________________________________\n",
      "dense_5 (Dense)                  (None, 11)            80861       dropout_1[0][0]                  \n",
      "====================================================================================================\n",
      "Total params: 448,015\n",
      "Trainable params: 448,015\n",
      "Non-trainable params: 0\n",
      "____________________________________________________________________________________________________\n"
     ]
    }
   ],
   "source": [
    "from keras.models import Model,Sequential\n",
    "from keras.layers import Input, Convolution2D, MaxPooling2D, Flatten, Dropout, Dense, Merge, Conv2D\n",
    "\n",
    "# TODO: 构建你的模型\n",
    "def train_model():\n",
    "    '''\n",
    "    model = Sequential()\n",
    "    model.add(Conv2D(30,3,3,padding='same',input_shape=(28, 28*5, 1),activation='relu'))\n",
    "    model.add(Conv2D(30,3,3,padding='same',activation='relu'))\n",
    "    model.add(MaxPooling2D(pool_size=(2, 2)))\n",
    "    model.add(Conv2D(15,3,3,padding='same',activation='relu'))\n",
    "    model.add(Conv2D(15,3,3,padding='same',activation='relu'))\n",
    "    model.add(MaxPooling2D(pool_size=(2, 2)))\n",
    "    model.add(Flatten())\n",
    "    model.add(Dropout(0.2))\n",
    "    print(model.summary())\n",
    "    '''\n",
    "    a = Input((28, 28*5, 1))\n",
    "    b = Conv2D(60, (2, 2), padding='same', activation='relu')(a)\n",
    "    b = Conv2D(60,(2, 2), padding='same', activation='relu')(b)\n",
    "    b = Conv2D(60, (2, 2), padding='same', activation='relu')(b)\n",
    "    b = MaxPooling2D(pool_size=(2, 2), padding='same')(b)\n",
    "    b = Conv2D(30, (2, 2), padding='same', activation='relu')(b)\n",
    "    b = Conv2D(30, (2, 2), padding='same', activation='relu')(b)\n",
    "    b = Conv2D(30, (2, 2), padding='same', activation='relu')(b)\n",
    "    b = MaxPooling2D(pool_size=(2, 2),padding='same')(b)    \n",
    "    b = Flatten()(b)\n",
    "    b = Dropout(0.2)(b)\n",
    "\n",
    "    lst_output = [Dense(11, activation='softmax')(b) for i in range(n_len)]\n",
    "    model = Model(inputs=a, outputs=lst_output)\n",
    "    \n",
    "    # compile model\n",
    "    model.compile(loss='categorical_crossentropy', optimizer='adam', metrics=['accuracy'])\n",
    "    return model\n",
    "\n",
    "train_model().summary()\n",
    "#0.8436 各3層CON\n",
    "#0.7881 各2層CON\n",
    "#0.846   各2層CON，加深60,30\n",
    "#0.8706 各3層CON，加深60,30\n",
    "#0.8703 各3層CON，加深60,30, 變小FILTER\n"
   ]
  },
  {
   "cell_type": "markdown",
   "metadata": {},
   "source": [
    "### 问题 2\n",
    "_你为解决这个问题采取了什么技术？请详细介绍你使用的技术。_\n",
    "\n",
    "**回答：** \n",
    "- 卷積層：使用該層提取照片的特徵，主要利用同一個filter（同一個權重）來掃描照片，符合共用權重之CNN的特性。\n",
    "- 為什麼加入激活函數層：事實上，神經網絡如果沒有激活函數層，依然能進行分類，只不過它是線性分類。所以，就算是使用了激活函數層，如果你的激活函數是線性函數的話，它依然只能進行線性分類。而目前大家之所以廣為使用 sigmoid、ReLU 函數是因為它們都是非線性函數，所以它能夠進行非線性分類，解決更多樣、複雜的問題。\n",
    "- 使用ReLU作為卷積層的激活函數：因為傳統的sigmoid在求導數後，尾端值接近零，會造成梯度消失的問題，所以改使用Relu。因為方便求導數，所以收斂速度快，即神經網絡的訓練速度變快。\n",
    "\n",
    "- 最大池化：將照片分割為多個2*2的矩陣，然後選出每個矩陣的最大值輸出。此法可以減少數據量，也能降低過擬合。\n",
    "\n",
    "- Flatten：將输入層“壓平”，即把多維的輸入資料一維化，經常用在卷積層到全連接層（Dense）的過渡。\n",
    "- Dropout：為輸入數據施加Dropout。在訓練過程中每次更新參數時按一定概率隨機剪斷輸入神經元，此層用於防止過擬合。\n",
    "- Dense：即全連接層。第N層的每個神經元和第N-1層的所有神經元相連，且同一層的神經元之間沒有連接。\n",
    "\n",
    "- 使用softmax作為最後輸出層的激活函數：把一個 k 維向量映射成一個（b1,b2,b3,b4….）其中 bi 是一個 0～1 的常數，輸出神經元之和為 1.0，所以相當於概率值，然後可以根據 bi 的概率大小來進行多分類的任務。因為本身的exp函數的原因，放大原本已經較大的訊號。\n",
    "\n",
    "- loss='categorical_crossentropy'：交叉熵訓練的效果比較好，能夠更精確地描述模型與理想模型之間的差異。\n",
    "ref:https://zhuanlan.zhihu.com/p/26268559\n",
    "\n",
    "- optimizer='adam'：一般機器學習時更新的權重取決於learning rate與dx的乘積。而adam結合Momentum（調整權重）與AdaGrad（調整校正值dx）的兩者優點，使得收斂更快，也提高準確度。"
   ]
  },
  {
   "cell_type": "markdown",
   "metadata": {},
   "source": [
    "### 可视化你的网络模型\n",
    "\n",
    "参考链接：[可视化visualization](http://keras-cn.readthedocs.io/en/latest/other/visualization/)\n",
    "\n",
    "可以是保存成 PNG 格式显示，也可以直接使用 SVG 格式。 SVG 是矢量图，它的优点是可以无限放大。"
   ]
  },
  {
   "cell_type": "code",
   "execution_count": 10,
   "metadata": {},
   "outputs": [
    {
     "data": {
      "image/svg+xml": [
       "<svg height=\"968pt\" viewBox=\"0.00 0.00 1317.50 968.00\" width=\"1318pt\" xmlns=\"http://www.w3.org/2000/svg\" xmlns:xlink=\"http://www.w3.org/1999/xlink\">\n",
       "<g class=\"graph\" id=\"graph0\" transform=\"scale(1 1) rotate(0) translate(4 964)\">\n",
       "<title>G</title>\n",
       "<polygon fill=\"white\" points=\"-4,4 -4,-964 1313.5,-964 1313.5,4 -4,4\" stroke=\"none\"/>\n",
       "<!-- 140654641868368 -->\n",
       "<g class=\"node\" id=\"node1\"><title>140654641868368</title>\n",
       "<polygon fill=\"none\" points=\"502,-913.5 502,-959.5 800,-959.5 800,-913.5 502,-913.5\" stroke=\"black\"/>\n",
       "<text font-family=\"Times,serif\" font-size=\"14.00\" text-anchor=\"middle\" x=\"564.5\" y=\"-932.8\">input_2: InputLayer</text>\n",
       "<polyline fill=\"none\" points=\"627,-913.5 627,-959.5 \" stroke=\"black\"/>\n",
       "<text font-family=\"Times,serif\" font-size=\"14.00\" text-anchor=\"middle\" x=\"654.5\" y=\"-944.3\">input:</text>\n",
       "<polyline fill=\"none\" points=\"627,-936.5 682,-936.5 \" stroke=\"black\"/>\n",
       "<text font-family=\"Times,serif\" font-size=\"14.00\" text-anchor=\"middle\" x=\"654.5\" y=\"-921.3\">output:</text>\n",
       "<polyline fill=\"none\" points=\"682,-913.5 682,-959.5 \" stroke=\"black\"/>\n",
       "<text font-family=\"Times,serif\" font-size=\"14.00\" text-anchor=\"middle\" x=\"741\" y=\"-944.3\">(None, 28, 140, 1)</text>\n",
       "<polyline fill=\"none\" points=\"682,-936.5 800,-936.5 \" stroke=\"black\"/>\n",
       "<text font-family=\"Times,serif\" font-size=\"14.00\" text-anchor=\"middle\" x=\"741\" y=\"-921.3\">(None, 28, 140, 1)</text>\n",
       "</g>\n",
       "<!-- 140654642522384 -->\n",
       "<g class=\"node\" id=\"node2\"><title>140654642522384</title>\n",
       "<polygon fill=\"none\" points=\"499.5,-830.5 499.5,-876.5 802.5,-876.5 802.5,-830.5 499.5,-830.5\" stroke=\"black\"/>\n",
       "<text font-family=\"Times,serif\" font-size=\"14.00\" text-anchor=\"middle\" x=\"561\" y=\"-849.8\">conv2d_7: Conv2D</text>\n",
       "<polyline fill=\"none\" points=\"622.5,-830.5 622.5,-876.5 \" stroke=\"black\"/>\n",
       "<text font-family=\"Times,serif\" font-size=\"14.00\" text-anchor=\"middle\" x=\"650\" y=\"-861.3\">input:</text>\n",
       "<polyline fill=\"none\" points=\"622.5,-853.5 677.5,-853.5 \" stroke=\"black\"/>\n",
       "<text font-family=\"Times,serif\" font-size=\"14.00\" text-anchor=\"middle\" x=\"650\" y=\"-838.3\">output:</text>\n",
       "<polyline fill=\"none\" points=\"677.5,-830.5 677.5,-876.5 \" stroke=\"black\"/>\n",
       "<text font-family=\"Times,serif\" font-size=\"14.00\" text-anchor=\"middle\" x=\"740\" y=\"-861.3\">(None, 28, 140, 1)</text>\n",
       "<polyline fill=\"none\" points=\"677.5,-853.5 802.5,-853.5 \" stroke=\"black\"/>\n",
       "<text font-family=\"Times,serif\" font-size=\"14.00\" text-anchor=\"middle\" x=\"740\" y=\"-838.3\">(None, 28, 140, 60)</text>\n",
       "</g>\n",
       "<!-- 140654641868368&#45;&gt;140654642522384 -->\n",
       "<g class=\"edge\" id=\"edge1\"><title>140654641868368-&gt;140654642522384</title>\n",
       "<path d=\"M651,-913.366C651,-905.152 651,-895.658 651,-886.725\" fill=\"none\" stroke=\"black\"/>\n",
       "<polygon fill=\"black\" points=\"654.5,-886.607 651,-876.607 647.5,-886.607 654.5,-886.607\" stroke=\"black\"/>\n",
       "</g>\n",
       "<!-- 140654642522896 -->\n",
       "<g class=\"node\" id=\"node3\"><title>140654642522896</title>\n",
       "<polygon fill=\"none\" points=\"499.5,-747.5 499.5,-793.5 802.5,-793.5 802.5,-747.5 499.5,-747.5\" stroke=\"black\"/>\n",
       "<text font-family=\"Times,serif\" font-size=\"14.00\" text-anchor=\"middle\" x=\"561\" y=\"-766.8\">conv2d_8: Conv2D</text>\n",
       "<polyline fill=\"none\" points=\"622.5,-747.5 622.5,-793.5 \" stroke=\"black\"/>\n",
       "<text font-family=\"Times,serif\" font-size=\"14.00\" text-anchor=\"middle\" x=\"650\" y=\"-778.3\">input:</text>\n",
       "<polyline fill=\"none\" points=\"622.5,-770.5 677.5,-770.5 \" stroke=\"black\"/>\n",
       "<text font-family=\"Times,serif\" font-size=\"14.00\" text-anchor=\"middle\" x=\"650\" y=\"-755.3\">output:</text>\n",
       "<polyline fill=\"none\" points=\"677.5,-747.5 677.5,-793.5 \" stroke=\"black\"/>\n",
       "<text font-family=\"Times,serif\" font-size=\"14.00\" text-anchor=\"middle\" x=\"740\" y=\"-778.3\">(None, 28, 140, 60)</text>\n",
       "<polyline fill=\"none\" points=\"677.5,-770.5 802.5,-770.5 \" stroke=\"black\"/>\n",
       "<text font-family=\"Times,serif\" font-size=\"14.00\" text-anchor=\"middle\" x=\"740\" y=\"-755.3\">(None, 28, 140, 60)</text>\n",
       "</g>\n",
       "<!-- 140654642522384&#45;&gt;140654642522896 -->\n",
       "<g class=\"edge\" id=\"edge2\"><title>140654642522384-&gt;140654642522896</title>\n",
       "<path d=\"M651,-830.366C651,-822.152 651,-812.658 651,-803.725\" fill=\"none\" stroke=\"black\"/>\n",
       "<polygon fill=\"black\" points=\"654.5,-803.607 651,-793.607 647.5,-803.607 654.5,-803.607\" stroke=\"black\"/>\n",
       "</g>\n",
       "<!-- 140654641169424 -->\n",
       "<g class=\"node\" id=\"node4\"><title>140654641169424</title>\n",
       "<polygon fill=\"none\" points=\"499.5,-664.5 499.5,-710.5 802.5,-710.5 802.5,-664.5 499.5,-664.5\" stroke=\"black\"/>\n",
       "<text font-family=\"Times,serif\" font-size=\"14.00\" text-anchor=\"middle\" x=\"561\" y=\"-683.8\">conv2d_9: Conv2D</text>\n",
       "<polyline fill=\"none\" points=\"622.5,-664.5 622.5,-710.5 \" stroke=\"black\"/>\n",
       "<text font-family=\"Times,serif\" font-size=\"14.00\" text-anchor=\"middle\" x=\"650\" y=\"-695.3\">input:</text>\n",
       "<polyline fill=\"none\" points=\"622.5,-687.5 677.5,-687.5 \" stroke=\"black\"/>\n",
       "<text font-family=\"Times,serif\" font-size=\"14.00\" text-anchor=\"middle\" x=\"650\" y=\"-672.3\">output:</text>\n",
       "<polyline fill=\"none\" points=\"677.5,-664.5 677.5,-710.5 \" stroke=\"black\"/>\n",
       "<text font-family=\"Times,serif\" font-size=\"14.00\" text-anchor=\"middle\" x=\"740\" y=\"-695.3\">(None, 28, 140, 60)</text>\n",
       "<polyline fill=\"none\" points=\"677.5,-687.5 802.5,-687.5 \" stroke=\"black\"/>\n",
       "<text font-family=\"Times,serif\" font-size=\"14.00\" text-anchor=\"middle\" x=\"740\" y=\"-672.3\">(None, 28, 140, 60)</text>\n",
       "</g>\n",
       "<!-- 140654642522896&#45;&gt;140654641169424 -->\n",
       "<g class=\"edge\" id=\"edge3\"><title>140654642522896-&gt;140654641169424</title>\n",
       "<path d=\"M651,-747.366C651,-739.152 651,-729.658 651,-720.725\" fill=\"none\" stroke=\"black\"/>\n",
       "<polygon fill=\"black\" points=\"654.5,-720.607 651,-710.607 647.5,-720.607 654.5,-720.607\" stroke=\"black\"/>\n",
       "</g>\n",
       "<!-- 140654641868304 -->\n",
       "<g class=\"node\" id=\"node5\"><title>140654641868304</title>\n",
       "<polygon fill=\"none\" points=\"457.5,-581.5 457.5,-627.5 844.5,-627.5 844.5,-581.5 457.5,-581.5\" stroke=\"black\"/>\n",
       "<text font-family=\"Times,serif\" font-size=\"14.00\" text-anchor=\"middle\" x=\"561\" y=\"-600.8\">max_pooling2d_3: MaxPooling2D</text>\n",
       "<polyline fill=\"none\" points=\"664.5,-581.5 664.5,-627.5 \" stroke=\"black\"/>\n",
       "<text font-family=\"Times,serif\" font-size=\"14.00\" text-anchor=\"middle\" x=\"692\" y=\"-612.3\">input:</text>\n",
       "<polyline fill=\"none\" points=\"664.5,-604.5 719.5,-604.5 \" stroke=\"black\"/>\n",
       "<text font-family=\"Times,serif\" font-size=\"14.00\" text-anchor=\"middle\" x=\"692\" y=\"-589.3\">output:</text>\n",
       "<polyline fill=\"none\" points=\"719.5,-581.5 719.5,-627.5 \" stroke=\"black\"/>\n",
       "<text font-family=\"Times,serif\" font-size=\"14.00\" text-anchor=\"middle\" x=\"782\" y=\"-612.3\">(None, 28, 140, 60)</text>\n",
       "<polyline fill=\"none\" points=\"719.5,-604.5 844.5,-604.5 \" stroke=\"black\"/>\n",
       "<text font-family=\"Times,serif\" font-size=\"14.00\" text-anchor=\"middle\" x=\"782\" y=\"-589.3\">(None, 14, 70, 60)</text>\n",
       "</g>\n",
       "<!-- 140654641169424&#45;&gt;140654641868304 -->\n",
       "<g class=\"edge\" id=\"edge4\"><title>140654641169424-&gt;140654641868304</title>\n",
       "<path d=\"M651,-664.366C651,-656.152 651,-646.658 651,-637.725\" fill=\"none\" stroke=\"black\"/>\n",
       "<polygon fill=\"black\" points=\"654.5,-637.607 651,-627.607 647.5,-637.607 654.5,-637.607\" stroke=\"black\"/>\n",
       "</g>\n",
       "<!-- 140654613364560 -->\n",
       "<g class=\"node\" id=\"node6\"><title>140654613364560</title>\n",
       "<polygon fill=\"none\" points=\"499.5,-498.5 499.5,-544.5 802.5,-544.5 802.5,-498.5 499.5,-498.5\" stroke=\"black\"/>\n",
       "<text font-family=\"Times,serif\" font-size=\"14.00\" text-anchor=\"middle\" x=\"564.5\" y=\"-517.8\">conv2d_10: Conv2D</text>\n",
       "<polyline fill=\"none\" points=\"629.5,-498.5 629.5,-544.5 \" stroke=\"black\"/>\n",
       "<text font-family=\"Times,serif\" font-size=\"14.00\" text-anchor=\"middle\" x=\"657\" y=\"-529.3\">input:</text>\n",
       "<polyline fill=\"none\" points=\"629.5,-521.5 684.5,-521.5 \" stroke=\"black\"/>\n",
       "<text font-family=\"Times,serif\" font-size=\"14.00\" text-anchor=\"middle\" x=\"657\" y=\"-506.3\">output:</text>\n",
       "<polyline fill=\"none\" points=\"684.5,-498.5 684.5,-544.5 \" stroke=\"black\"/>\n",
       "<text font-family=\"Times,serif\" font-size=\"14.00\" text-anchor=\"middle\" x=\"743.5\" y=\"-529.3\">(None, 14, 70, 60)</text>\n",
       "<polyline fill=\"none\" points=\"684.5,-521.5 802.5,-521.5 \" stroke=\"black\"/>\n",
       "<text font-family=\"Times,serif\" font-size=\"14.00\" text-anchor=\"middle\" x=\"743.5\" y=\"-506.3\">(None, 14, 70, 30)</text>\n",
       "</g>\n",
       "<!-- 140654641868304&#45;&gt;140654613364560 -->\n",
       "<g class=\"edge\" id=\"edge5\"><title>140654641868304-&gt;140654613364560</title>\n",
       "<path d=\"M651,-581.366C651,-573.152 651,-563.658 651,-554.725\" fill=\"none\" stroke=\"black\"/>\n",
       "<polygon fill=\"black\" points=\"654.5,-554.607 651,-544.607 647.5,-554.607 654.5,-554.607\" stroke=\"black\"/>\n",
       "</g>\n",
       "<!-- 140654613432400 -->\n",
       "<g class=\"node\" id=\"node7\"><title>140654613432400</title>\n",
       "<polygon fill=\"none\" points=\"499.5,-415.5 499.5,-461.5 802.5,-461.5 802.5,-415.5 499.5,-415.5\" stroke=\"black\"/>\n",
       "<text font-family=\"Times,serif\" font-size=\"14.00\" text-anchor=\"middle\" x=\"564.5\" y=\"-434.8\">conv2d_11: Conv2D</text>\n",
       "<polyline fill=\"none\" points=\"629.5,-415.5 629.5,-461.5 \" stroke=\"black\"/>\n",
       "<text font-family=\"Times,serif\" font-size=\"14.00\" text-anchor=\"middle\" x=\"657\" y=\"-446.3\">input:</text>\n",
       "<polyline fill=\"none\" points=\"629.5,-438.5 684.5,-438.5 \" stroke=\"black\"/>\n",
       "<text font-family=\"Times,serif\" font-size=\"14.00\" text-anchor=\"middle\" x=\"657\" y=\"-423.3\">output:</text>\n",
       "<polyline fill=\"none\" points=\"684.5,-415.5 684.5,-461.5 \" stroke=\"black\"/>\n",
       "<text font-family=\"Times,serif\" font-size=\"14.00\" text-anchor=\"middle\" x=\"743.5\" y=\"-446.3\">(None, 14, 70, 30)</text>\n",
       "<polyline fill=\"none\" points=\"684.5,-438.5 802.5,-438.5 \" stroke=\"black\"/>\n",
       "<text font-family=\"Times,serif\" font-size=\"14.00\" text-anchor=\"middle\" x=\"743.5\" y=\"-423.3\">(None, 14, 70, 30)</text>\n",
       "</g>\n",
       "<!-- 140654613364560&#45;&gt;140654613432400 -->\n",
       "<g class=\"edge\" id=\"edge6\"><title>140654613364560-&gt;140654613432400</title>\n",
       "<path d=\"M651,-498.366C651,-490.152 651,-480.658 651,-471.725\" fill=\"none\" stroke=\"black\"/>\n",
       "<polygon fill=\"black\" points=\"654.5,-471.607 651,-461.607 647.5,-471.607 654.5,-471.607\" stroke=\"black\"/>\n",
       "</g>\n",
       "<!-- 140654613511952 -->\n",
       "<g class=\"node\" id=\"node8\"><title>140654613511952</title>\n",
       "<polygon fill=\"none\" points=\"499.5,-332.5 499.5,-378.5 802.5,-378.5 802.5,-332.5 499.5,-332.5\" stroke=\"black\"/>\n",
       "<text font-family=\"Times,serif\" font-size=\"14.00\" text-anchor=\"middle\" x=\"564.5\" y=\"-351.8\">conv2d_12: Conv2D</text>\n",
       "<polyline fill=\"none\" points=\"629.5,-332.5 629.5,-378.5 \" stroke=\"black\"/>\n",
       "<text font-family=\"Times,serif\" font-size=\"14.00\" text-anchor=\"middle\" x=\"657\" y=\"-363.3\">input:</text>\n",
       "<polyline fill=\"none\" points=\"629.5,-355.5 684.5,-355.5 \" stroke=\"black\"/>\n",
       "<text font-family=\"Times,serif\" font-size=\"14.00\" text-anchor=\"middle\" x=\"657\" y=\"-340.3\">output:</text>\n",
       "<polyline fill=\"none\" points=\"684.5,-332.5 684.5,-378.5 \" stroke=\"black\"/>\n",
       "<text font-family=\"Times,serif\" font-size=\"14.00\" text-anchor=\"middle\" x=\"743.5\" y=\"-363.3\">(None, 14, 70, 30)</text>\n",
       "<polyline fill=\"none\" points=\"684.5,-355.5 802.5,-355.5 \" stroke=\"black\"/>\n",
       "<text font-family=\"Times,serif\" font-size=\"14.00\" text-anchor=\"middle\" x=\"743.5\" y=\"-340.3\">(None, 14, 70, 30)</text>\n",
       "</g>\n",
       "<!-- 140654613432400&#45;&gt;140654613511952 -->\n",
       "<g class=\"edge\" id=\"edge7\"><title>140654613432400-&gt;140654613511952</title>\n",
       "<path d=\"M651,-415.366C651,-407.152 651,-397.658 651,-388.725\" fill=\"none\" stroke=\"black\"/>\n",
       "<polygon fill=\"black\" points=\"654.5,-388.607 651,-378.607 647.5,-388.607 654.5,-388.607\" stroke=\"black\"/>\n",
       "</g>\n",
       "<!-- 140654613129488 -->\n",
       "<g class=\"node\" id=\"node9\"><title>140654613129488</title>\n",
       "<polygon fill=\"none\" points=\"461,-249.5 461,-295.5 841,-295.5 841,-249.5 461,-249.5\" stroke=\"black\"/>\n",
       "<text font-family=\"Times,serif\" font-size=\"14.00\" text-anchor=\"middle\" x=\"564.5\" y=\"-268.8\">max_pooling2d_4: MaxPooling2D</text>\n",
       "<polyline fill=\"none\" points=\"668,-249.5 668,-295.5 \" stroke=\"black\"/>\n",
       "<text font-family=\"Times,serif\" font-size=\"14.00\" text-anchor=\"middle\" x=\"695.5\" y=\"-280.3\">input:</text>\n",
       "<polyline fill=\"none\" points=\"668,-272.5 723,-272.5 \" stroke=\"black\"/>\n",
       "<text font-family=\"Times,serif\" font-size=\"14.00\" text-anchor=\"middle\" x=\"695.5\" y=\"-257.3\">output:</text>\n",
       "<polyline fill=\"none\" points=\"723,-249.5 723,-295.5 \" stroke=\"black\"/>\n",
       "<text font-family=\"Times,serif\" font-size=\"14.00\" text-anchor=\"middle\" x=\"782\" y=\"-280.3\">(None, 14, 70, 30)</text>\n",
       "<polyline fill=\"none\" points=\"723,-272.5 841,-272.5 \" stroke=\"black\"/>\n",
       "<text font-family=\"Times,serif\" font-size=\"14.00\" text-anchor=\"middle\" x=\"782\" y=\"-257.3\">(None, 7, 35, 30)</text>\n",
       "</g>\n",
       "<!-- 140654613511952&#45;&gt;140654613129488 -->\n",
       "<g class=\"edge\" id=\"edge8\"><title>140654613511952-&gt;140654613129488</title>\n",
       "<path d=\"M651,-332.366C651,-324.152 651,-314.658 651,-305.725\" fill=\"none\" stroke=\"black\"/>\n",
       "<polygon fill=\"black\" points=\"654.5,-305.607 651,-295.607 647.5,-305.607 654.5,-305.607\" stroke=\"black\"/>\n",
       "</g>\n",
       "<!-- 140654613274064 -->\n",
       "<g class=\"node\" id=\"node10\"><title>140654613274064</title>\n",
       "<polygon fill=\"none\" points=\"513,-166.5 513,-212.5 789,-212.5 789,-166.5 513,-166.5\" stroke=\"black\"/>\n",
       "<text font-family=\"Times,serif\" font-size=\"14.00\" text-anchor=\"middle\" x=\"568\" y=\"-185.8\">flatten_2: Flatten</text>\n",
       "<polyline fill=\"none\" points=\"623,-166.5 623,-212.5 \" stroke=\"black\"/>\n",
       "<text font-family=\"Times,serif\" font-size=\"14.00\" text-anchor=\"middle\" x=\"650.5\" y=\"-197.3\">input:</text>\n",
       "<polyline fill=\"none\" points=\"623,-189.5 678,-189.5 \" stroke=\"black\"/>\n",
       "<text font-family=\"Times,serif\" font-size=\"14.00\" text-anchor=\"middle\" x=\"650.5\" y=\"-174.3\">output:</text>\n",
       "<polyline fill=\"none\" points=\"678,-166.5 678,-212.5 \" stroke=\"black\"/>\n",
       "<text font-family=\"Times,serif\" font-size=\"14.00\" text-anchor=\"middle\" x=\"733.5\" y=\"-197.3\">(None, 7, 35, 30)</text>\n",
       "<polyline fill=\"none\" points=\"678,-189.5 789,-189.5 \" stroke=\"black\"/>\n",
       "<text font-family=\"Times,serif\" font-size=\"14.00\" text-anchor=\"middle\" x=\"733.5\" y=\"-174.3\">(None, 7350)</text>\n",
       "</g>\n",
       "<!-- 140654613129488&#45;&gt;140654613274064 -->\n",
       "<g class=\"edge\" id=\"edge9\"><title>140654613129488-&gt;140654613274064</title>\n",
       "<path d=\"M651,-249.366C651,-241.152 651,-231.658 651,-222.725\" fill=\"none\" stroke=\"black\"/>\n",
       "<polygon fill=\"black\" points=\"654.5,-222.607 651,-212.607 647.5,-222.607 654.5,-222.607\" stroke=\"black\"/>\n",
       "</g>\n",
       "<!-- 140654613328784 -->\n",
       "<g class=\"node\" id=\"node11\"><title>140654613328784</title>\n",
       "<polygon fill=\"none\" points=\"516.5,-83.5 516.5,-129.5 785.5,-129.5 785.5,-83.5 516.5,-83.5\" stroke=\"black\"/>\n",
       "<text font-family=\"Times,serif\" font-size=\"14.00\" text-anchor=\"middle\" x=\"579\" y=\"-102.8\">dropout_2: Dropout</text>\n",
       "<polyline fill=\"none\" points=\"641.5,-83.5 641.5,-129.5 \" stroke=\"black\"/>\n",
       "<text font-family=\"Times,serif\" font-size=\"14.00\" text-anchor=\"middle\" x=\"669\" y=\"-114.3\">input:</text>\n",
       "<polyline fill=\"none\" points=\"641.5,-106.5 696.5,-106.5 \" stroke=\"black\"/>\n",
       "<text font-family=\"Times,serif\" font-size=\"14.00\" text-anchor=\"middle\" x=\"669\" y=\"-91.3\">output:</text>\n",
       "<polyline fill=\"none\" points=\"696.5,-83.5 696.5,-129.5 \" stroke=\"black\"/>\n",
       "<text font-family=\"Times,serif\" font-size=\"14.00\" text-anchor=\"middle\" x=\"741\" y=\"-114.3\">(None, 7350)</text>\n",
       "<polyline fill=\"none\" points=\"696.5,-106.5 785.5,-106.5 \" stroke=\"black\"/>\n",
       "<text font-family=\"Times,serif\" font-size=\"14.00\" text-anchor=\"middle\" x=\"741\" y=\"-91.3\">(None, 7350)</text>\n",
       "</g>\n",
       "<!-- 140654613274064&#45;&gt;140654613328784 -->\n",
       "<g class=\"edge\" id=\"edge10\"><title>140654613274064-&gt;140654613328784</title>\n",
       "<path d=\"M651,-166.366C651,-158.152 651,-148.658 651,-139.725\" fill=\"none\" stroke=\"black\"/>\n",
       "<polygon fill=\"black\" points=\"654.5,-139.607 651,-129.607 647.5,-139.607 654.5,-139.607\" stroke=\"black\"/>\n",
       "</g>\n",
       "<!-- 140654612962960 -->\n",
       "<g class=\"node\" id=\"node12\"><title>140654612962960</title>\n",
       "<polygon fill=\"none\" points=\"0,-0.5 0,-46.5 246,-46.5 246,-0.5 0,-0.5\" stroke=\"black\"/>\n",
       "<text font-family=\"Times,serif\" font-size=\"14.00\" text-anchor=\"middle\" x=\"51\" y=\"-19.8\">dense_6: Dense</text>\n",
       "<polyline fill=\"none\" points=\"102,-0.5 102,-46.5 \" stroke=\"black\"/>\n",
       "<text font-family=\"Times,serif\" font-size=\"14.00\" text-anchor=\"middle\" x=\"129.5\" y=\"-31.3\">input:</text>\n",
       "<polyline fill=\"none\" points=\"102,-23.5 157,-23.5 \" stroke=\"black\"/>\n",
       "<text font-family=\"Times,serif\" font-size=\"14.00\" text-anchor=\"middle\" x=\"129.5\" y=\"-8.3\">output:</text>\n",
       "<polyline fill=\"none\" points=\"157,-0.5 157,-46.5 \" stroke=\"black\"/>\n",
       "<text font-family=\"Times,serif\" font-size=\"14.00\" text-anchor=\"middle\" x=\"201.5\" y=\"-31.3\">(None, 7350)</text>\n",
       "<polyline fill=\"none\" points=\"157,-23.5 246,-23.5 \" stroke=\"black\"/>\n",
       "<text font-family=\"Times,serif\" font-size=\"14.00\" text-anchor=\"middle\" x=\"201.5\" y=\"-8.3\">(None, 11)</text>\n",
       "</g>\n",
       "<!-- 140654613328784&#45;&gt;140654612962960 -->\n",
       "<g class=\"edge\" id=\"edge11\"><title>140654613328784-&gt;140654612962960</title>\n",
       "<path d=\"M516.171,-86.3381C442.226,-75.6464 348.665,-61.8223 256.379,-47.206\" fill=\"none\" stroke=\"black\"/>\n",
       "<polygon fill=\"black\" points=\"256.723,-43.7168 246.297,-45.6053 255.625,-50.6302 256.723,-43.7168\" stroke=\"black\"/>\n",
       "</g>\n",
       "<!-- 140654612962192 -->\n",
       "<g class=\"node\" id=\"node13\"><title>140654612962192</title>\n",
       "<polygon fill=\"none\" points=\"264,-0.5 264,-46.5 510,-46.5 510,-0.5 264,-0.5\" stroke=\"black\"/>\n",
       "<text font-family=\"Times,serif\" font-size=\"14.00\" text-anchor=\"middle\" x=\"315\" y=\"-19.8\">dense_7: Dense</text>\n",
       "<polyline fill=\"none\" points=\"366,-0.5 366,-46.5 \" stroke=\"black\"/>\n",
       "<text font-family=\"Times,serif\" font-size=\"14.00\" text-anchor=\"middle\" x=\"393.5\" y=\"-31.3\">input:</text>\n",
       "<polyline fill=\"none\" points=\"366,-23.5 421,-23.5 \" stroke=\"black\"/>\n",
       "<text font-family=\"Times,serif\" font-size=\"14.00\" text-anchor=\"middle\" x=\"393.5\" y=\"-8.3\">output:</text>\n",
       "<polyline fill=\"none\" points=\"421,-0.5 421,-46.5 \" stroke=\"black\"/>\n",
       "<text font-family=\"Times,serif\" font-size=\"14.00\" text-anchor=\"middle\" x=\"465.5\" y=\"-31.3\">(None, 7350)</text>\n",
       "<polyline fill=\"none\" points=\"421,-23.5 510,-23.5 \" stroke=\"black\"/>\n",
       "<text font-family=\"Times,serif\" font-size=\"14.00\" text-anchor=\"middle\" x=\"465.5\" y=\"-8.3\">(None, 11)</text>\n",
       "</g>\n",
       "<!-- 140654613328784&#45;&gt;140654612962192 -->\n",
       "<g class=\"edge\" id=\"edge12\"><title>140654613328784-&gt;140654612962192</title>\n",
       "<path d=\"M579.21,-83.4734C545.016,-72.9822 503.962,-60.3862 468.591,-49.5337\" fill=\"none\" stroke=\"black\"/>\n",
       "<polygon fill=\"black\" points=\"469.363,-46.1095 458.776,-46.5222 467.31,-52.8016 469.363,-46.1095\" stroke=\"black\"/>\n",
       "</g>\n",
       "<!-- 140654612618768 -->\n",
       "<g class=\"node\" id=\"node14\"><title>140654612618768</title>\n",
       "<polygon fill=\"none\" points=\"528,-0.5 528,-46.5 774,-46.5 774,-0.5 528,-0.5\" stroke=\"black\"/>\n",
       "<text font-family=\"Times,serif\" font-size=\"14.00\" text-anchor=\"middle\" x=\"579\" y=\"-19.8\">dense_8: Dense</text>\n",
       "<polyline fill=\"none\" points=\"630,-0.5 630,-46.5 \" stroke=\"black\"/>\n",
       "<text font-family=\"Times,serif\" font-size=\"14.00\" text-anchor=\"middle\" x=\"657.5\" y=\"-31.3\">input:</text>\n",
       "<polyline fill=\"none\" points=\"630,-23.5 685,-23.5 \" stroke=\"black\"/>\n",
       "<text font-family=\"Times,serif\" font-size=\"14.00\" text-anchor=\"middle\" x=\"657.5\" y=\"-8.3\">output:</text>\n",
       "<polyline fill=\"none\" points=\"685,-0.5 685,-46.5 \" stroke=\"black\"/>\n",
       "<text font-family=\"Times,serif\" font-size=\"14.00\" text-anchor=\"middle\" x=\"729.5\" y=\"-31.3\">(None, 7350)</text>\n",
       "<polyline fill=\"none\" points=\"685,-23.5 774,-23.5 \" stroke=\"black\"/>\n",
       "<text font-family=\"Times,serif\" font-size=\"14.00\" text-anchor=\"middle\" x=\"729.5\" y=\"-8.3\">(None, 11)</text>\n",
       "</g>\n",
       "<!-- 140654613328784&#45;&gt;140654612618768 -->\n",
       "<g class=\"edge\" id=\"edge13\"><title>140654613328784-&gt;140654612618768</title>\n",
       "<path d=\"M651,-83.3664C651,-75.1516 651,-65.6579 651,-56.7252\" fill=\"none\" stroke=\"black\"/>\n",
       "<polygon fill=\"black\" points=\"654.5,-56.6068 651,-46.6068 647.5,-56.6069 654.5,-56.6068\" stroke=\"black\"/>\n",
       "</g>\n",
       "<!-- 140654612766928 -->\n",
       "<g class=\"node\" id=\"node15\"><title>140654612766928</title>\n",
       "<polygon fill=\"none\" points=\"792,-0.5 792,-46.5 1038,-46.5 1038,-0.5 792,-0.5\" stroke=\"black\"/>\n",
       "<text font-family=\"Times,serif\" font-size=\"14.00\" text-anchor=\"middle\" x=\"843\" y=\"-19.8\">dense_9: Dense</text>\n",
       "<polyline fill=\"none\" points=\"894,-0.5 894,-46.5 \" stroke=\"black\"/>\n",
       "<text font-family=\"Times,serif\" font-size=\"14.00\" text-anchor=\"middle\" x=\"921.5\" y=\"-31.3\">input:</text>\n",
       "<polyline fill=\"none\" points=\"894,-23.5 949,-23.5 \" stroke=\"black\"/>\n",
       "<text font-family=\"Times,serif\" font-size=\"14.00\" text-anchor=\"middle\" x=\"921.5\" y=\"-8.3\">output:</text>\n",
       "<polyline fill=\"none\" points=\"949,-0.5 949,-46.5 \" stroke=\"black\"/>\n",
       "<text font-family=\"Times,serif\" font-size=\"14.00\" text-anchor=\"middle\" x=\"993.5\" y=\"-31.3\">(None, 7350)</text>\n",
       "<polyline fill=\"none\" points=\"949,-23.5 1038,-23.5 \" stroke=\"black\"/>\n",
       "<text font-family=\"Times,serif\" font-size=\"14.00\" text-anchor=\"middle\" x=\"993.5\" y=\"-8.3\">(None, 11)</text>\n",
       "</g>\n",
       "<!-- 140654613328784&#45;&gt;140654612766928 -->\n",
       "<g class=\"edge\" id=\"edge14\"><title>140654613328784-&gt;140654612766928</title>\n",
       "<path d=\"M722.79,-83.4734C756.984,-72.9822 798.038,-60.3862 833.409,-49.5337\" fill=\"none\" stroke=\"black\"/>\n",
       "<polygon fill=\"black\" points=\"834.69,-52.8016 843.224,-46.5222 832.637,-46.1095 834.69,-52.8016\" stroke=\"black\"/>\n",
       "</g>\n",
       "<!-- 140654612316048 -->\n",
       "<g class=\"node\" id=\"node16\"><title>140654612316048</title>\n",
       "<polygon fill=\"none\" points=\"1056.5,-0.5 1056.5,-46.5 1309.5,-46.5 1309.5,-0.5 1056.5,-0.5\" stroke=\"black\"/>\n",
       "<text font-family=\"Times,serif\" font-size=\"14.00\" text-anchor=\"middle\" x=\"1111\" y=\"-19.8\">dense_10: Dense</text>\n",
       "<polyline fill=\"none\" points=\"1165.5,-0.5 1165.5,-46.5 \" stroke=\"black\"/>\n",
       "<text font-family=\"Times,serif\" font-size=\"14.00\" text-anchor=\"middle\" x=\"1193\" y=\"-31.3\">input:</text>\n",
       "<polyline fill=\"none\" points=\"1165.5,-23.5 1220.5,-23.5 \" stroke=\"black\"/>\n",
       "<text font-family=\"Times,serif\" font-size=\"14.00\" text-anchor=\"middle\" x=\"1193\" y=\"-8.3\">output:</text>\n",
       "<polyline fill=\"none\" points=\"1220.5,-0.5 1220.5,-46.5 \" stroke=\"black\"/>\n",
       "<text font-family=\"Times,serif\" font-size=\"14.00\" text-anchor=\"middle\" x=\"1265\" y=\"-31.3\">(None, 7350)</text>\n",
       "<polyline fill=\"none\" points=\"1220.5,-23.5 1309.5,-23.5 \" stroke=\"black\"/>\n",
       "<text font-family=\"Times,serif\" font-size=\"14.00\" text-anchor=\"middle\" x=\"1265\" y=\"-8.3\">(None, 11)</text>\n",
       "</g>\n",
       "<!-- 140654613328784&#45;&gt;140654612316048 -->\n",
       "<g class=\"edge\" id=\"edge15\"><title>140654613328784-&gt;140654612316048</title>\n",
       "<path d=\"M785.804,-86.1756C859.74,-75.434 953.301,-61.6105 1046.18,-47.1177\" fill=\"none\" stroke=\"black\"/>\n",
       "<polygon fill=\"black\" points=\"1046.99,-50.5338 1056.32,-45.531 1045.9,-43.6178 1046.99,-50.5338\" stroke=\"black\"/>\n",
       "</g>\n",
       "</g>\n",
       "</svg>"
      ],
      "text/plain": [
       "<IPython.core.display.SVG object>"
      ]
     },
     "execution_count": 10,
     "metadata": {},
     "output_type": "execute_result"
    }
   ],
   "source": [
    "from keras.utils.vis_utils  import plot_model, model_to_dot\n",
    "from keras.utils import plot_model\n",
    "\n",
    "from IPython.display import Image, SVG\n",
    "\n",
    "# TODO: 可视化你的模型\n",
    "\n",
    "model =  train_model()       \n",
    "SVG(model_to_dot(model,show_shapes=True).create(prog='dot', format='svg'))\n",
    "#plot_model(model, to_file='model.png')\n",
    "#Image(filename = 'train_model.png')"
   ]
  },
  {
   "cell_type": "markdown",
   "metadata": {},
   "source": [
    "### 问题 3\n",
    "_你最终的模型架构是什么样的？（什么类型的模型，层数，大小, 如何连接等）_\n",
    "\n",
    "**回答：**\n",
    "我的模型為CNN卷積神經網路：實際的層數、大小、如何連接等，可以參考 output[9]所輸出的train_model().summary()的結果。"
   ]
  },
  {
   "cell_type": "markdown",
   "metadata": {},
   "source": [
    "### 练习：训练你的网络模型\n",
    "\n",
    "训练你的模型时，需要设置训练集和验证集。"
   ]
  },
  {
   "cell_type": "code",
   "execution_count": 11,
   "metadata": {},
   "outputs": [
    {
     "name": "stdout",
     "output_type": "stream",
     "text": [
      "Train on 48000 samples, validate on 12000 samples\n",
      "Epoch 1/20\n",
      "816s - loss: 1.9131 - dense_6_loss: 0.5557 - dense_7_loss: 0.4457 - dense_8_loss: 0.4118 - dense_9_loss: 0.2967 - dense_10_loss: 0.2032 - dense_6_acc: 0.8396 - dense_7_acc: 0.8673 - dense_8_acc: 0.8840 - dense_9_acc: 0.9147 - dense_10_acc: 0.9481 - val_loss: 0.3342 - val_dense_6_loss: 0.0959 - val_dense_7_loss: 0.0838 - val_dense_8_loss: 0.0650 - val_dense_9_loss: 0.0562 - val_dense_10_loss: 0.0334 - val_dense_6_acc: 0.9698 - val_dense_7_acc: 0.9731 - val_dense_8_acc: 0.9791 - val_dense_9_acc: 0.9823 - val_dense_10_acc: 0.9897\n",
      "Epoch 2/20\n",
      "784s - loss: 0.3091 - dense_6_loss: 0.0950 - dense_7_loss: 0.0778 - dense_8_loss: 0.0623 - dense_9_loss: 0.0476 - dense_10_loss: 0.0265 - dense_6_acc: 0.9699 - dense_7_acc: 0.9752 - dense_8_acc: 0.9794 - dense_9_acc: 0.9849 - dense_10_acc: 0.9919 - val_loss: 0.2474 - val_dense_6_loss: 0.0718 - val_dense_7_loss: 0.0602 - val_dense_8_loss: 0.0474 - val_dense_9_loss: 0.0408 - val_dense_10_loss: 0.0273 - val_dense_6_acc: 0.9769 - val_dense_7_acc: 0.9803 - val_dense_8_acc: 0.9858 - val_dense_9_acc: 0.9868 - val_dense_10_acc: 0.9908\n",
      "Epoch 3/20\n",
      "794s - loss: 0.1822 - dense_6_loss: 0.0608 - dense_7_loss: 0.0455 - dense_8_loss: 0.0372 - dense_9_loss: 0.0254 - dense_10_loss: 0.0133 - dense_6_acc: 0.9806 - dense_7_acc: 0.9850 - dense_8_acc: 0.9883 - dense_9_acc: 0.9915 - dense_10_acc: 0.9955 - val_loss: 0.2175 - val_dense_6_loss: 0.0599 - val_dense_7_loss: 0.0501 - val_dense_8_loss: 0.0430 - val_dense_9_loss: 0.0436 - val_dense_10_loss: 0.0210 - val_dense_6_acc: 0.9809 - val_dense_7_acc: 0.9841 - val_dense_8_acc: 0.9883 - val_dense_9_acc: 0.9875 - val_dense_10_acc: 0.9934\n",
      "Epoch 4/20\n",
      "787s - loss: 0.1210 - dense_6_loss: 0.0415 - dense_7_loss: 0.0312 - dense_8_loss: 0.0236 - dense_9_loss: 0.0173 - dense_10_loss: 0.0075 - dense_6_acc: 0.9860 - dense_7_acc: 0.9900 - dense_8_acc: 0.9917 - dense_9_acc: 0.9942 - dense_10_acc: 0.9974 - val_loss: 0.1920 - val_dense_6_loss: 0.0521 - val_dense_7_loss: 0.0426 - val_dense_8_loss: 0.0395 - val_dense_9_loss: 0.0357 - val_dense_10_loss: 0.0220 - val_dense_6_acc: 0.9838 - val_dense_7_acc: 0.9877 - val_dense_8_acc: 0.9890 - val_dense_9_acc: 0.9910 - val_dense_10_acc: 0.9943\n",
      "Epoch 5/20\n",
      "784s - loss: 0.0906 - dense_6_loss: 0.0306 - dense_7_loss: 0.0241 - dense_8_loss: 0.0183 - dense_9_loss: 0.0127 - dense_10_loss: 0.0049 - dense_6_acc: 0.9896 - dense_7_acc: 0.9917 - dense_8_acc: 0.9938 - dense_9_acc: 0.9955 - dense_10_acc: 0.9986 - val_loss: 0.2161 - val_dense_6_loss: 0.0605 - val_dense_7_loss: 0.0496 - val_dense_8_loss: 0.0448 - val_dense_9_loss: 0.0426 - val_dense_10_loss: 0.0185 - val_dense_6_acc: 0.9822 - val_dense_7_acc: 0.9863 - val_dense_8_acc: 0.9878 - val_dense_9_acc: 0.9891 - val_dense_10_acc: 0.9953\n",
      "Epoch 6/20\n",
      "770s - loss: 0.0670 - dense_6_loss: 0.0240 - dense_7_loss: 0.0162 - dense_8_loss: 0.0135 - dense_9_loss: 0.0079 - dense_10_loss: 0.0054 - dense_6_acc: 0.9922 - dense_7_acc: 0.9944 - dense_8_acc: 0.9954 - dense_9_acc: 0.9973 - dense_10_acc: 0.9984 - val_loss: 0.2413 - val_dense_6_loss: 0.0623 - val_dense_7_loss: 0.0573 - val_dense_8_loss: 0.0466 - val_dense_9_loss: 0.0480 - val_dense_10_loss: 0.0271 - val_dense_6_acc: 0.9828 - val_dense_7_acc: 0.9860 - val_dense_8_acc: 0.9881 - val_dense_9_acc: 0.9894 - val_dense_10_acc: 0.9934\n",
      "Epoch 7/20\n",
      "756s - loss: 0.0638 - dense_6_loss: 0.0218 - dense_7_loss: 0.0159 - dense_8_loss: 0.0114 - dense_9_loss: 0.0094 - dense_10_loss: 0.0054 - dense_6_acc: 0.9922 - dense_7_acc: 0.9944 - dense_8_acc: 0.9957 - dense_9_acc: 0.9972 - dense_10_acc: 0.9983 - val_loss: 0.2217 - val_dense_6_loss: 0.0570 - val_dense_7_loss: 0.0490 - val_dense_8_loss: 0.0444 - val_dense_9_loss: 0.0470 - val_dense_10_loss: 0.0242 - val_dense_6_acc: 0.9851 - val_dense_7_acc: 0.9870 - val_dense_8_acc: 0.9888 - val_dense_9_acc: 0.9890 - val_dense_10_acc: 0.9942\n"
     ]
    }
   ],
   "source": [
    "# TODO: 训练你的模型\n",
    "from keras.callbacks import EarlyStopping\n",
    "valid=(X_valid, y_valid)\n",
    "\n",
    "early_stop = EarlyStopping(monitor='val_loss', min_delta=0.0005, patience=2)\n",
    "log = model.fit(X_train, y_train, epochs=20, validation_data=valid, batch_size=200, verbose=2,\n",
    "               callbacks=[early_stop])"
   ]
  },
  {
   "cell_type": "markdown",
   "metadata": {},
   "source": [
    "### 练习：计算你的模型准确率\n",
    "\n",
    "我们刚才得到了模型每个数字的准确率，现在让我们来计算整体准确率，按照完全预测正确数字序列的标准来计算。\n",
    "\n",
    "比如 1,2,3,10,10 预测成了 1,2,10,10,10 算错，而不是算对了80%。"
   ]
  },
  {
   "cell_type": "code",
   "execution_count": 12,
   "metadata": {},
   "outputs": [
    {
     "name": "stdout",
     "output_type": "stream",
     "text": [
      "[[ 4  2  6 ...,  1  3  6]\n",
      " [10  5  6 ...,  1  4 10]\n",
      " [10 10  6 ...,  0  3 10]\n",
      " [10 10 10 ...,  5 10 10]\n",
      " [10 10 10 ...,  3 10 10]]\n"
     ]
    }
   ],
   "source": [
    "y_pred = model.predict(X_test, batch_size=200)\n",
    "pred = np.argmax(y_pred, axis=2)\n",
    "#print y_pred\n",
    "print pred"
   ]
  },
  {
   "cell_type": "code",
   "execution_count": 13,
   "metadata": {
    "scrolled": true
   },
   "outputs": [
    {
     "name": "stdout",
     "output_type": "stream",
     "text": [
      "0.9471\n"
     ]
    }
   ],
   "source": [
    "def evaluate(model):\n",
    "    # TODO: 按照错一个就算错的规则计算准确率\n",
    "    y_pred = model.predict(X_test, batch_size=200)\n",
    "    pred = np.argmax(y_pred, axis=2)   #axis=2 代表是矩陣內的第三維：數字\n",
    "    test = np.argmax(y_test, axis=2)  \n",
    "    accuracy = np.min((pred==test), axis=0).mean()\n",
    "    return accuracy\n",
    "\n",
    "print(evaluate(model))\n",
    "\n",
    "#scores = model.evaluate(X_test,y_test)\n",
    "#print('accuracy=',scores[1])"
   ]
  },
  {
   "cell_type": "markdown",
   "metadata": {},
   "source": [
    "### 问题 4\n",
    "\n",
    "_你的模型准确率有多少？你觉得你的模型足以解决问题吗？_\n",
    "\n",
    "**回答：**\n",
    "準確率0.9471。藉由調整一些參數，有助增加準確率:\n",
    "- 增加卷積層的層數\n",
    "- 加深卷積層的厚度\n",
    "\n",
    "\n",
    "雖然目前準確率已經準確，但是針對其他的數據類型依然需要調整參數。"
   ]
  },
  {
   "cell_type": "markdown",
   "metadata": {},
   "source": [
    "### 预测值可视化\n",
    "\n",
    "我们将模型的预测结果和真实值画出来，观察真实效果。"
   ]
  },
  {
   "cell_type": "code",
   "execution_count": 14,
   "metadata": {},
   "outputs": [
    {
     "data": {
      "text/plain": [
       "(-0.5, 139.5, 27.5, -0.5)"
      ]
     },
     "execution_count": 14,
     "metadata": {},
     "output_type": "execute_result"
    },
    {
     "data": {
      "image/png": "[encoded data removed]",
      "text/plain": [
       "<matplotlib.figure.Figure at 0x7fecb5f23410>"
      ]
     },
     "metadata": {
      "image/png": {
       "height": 127,
       "width": 370
      }
     },
     "output_type": "display_data"
    }
   ],
   "source": [
    "def get_result(result):\n",
    "    # 将 one_hot 编码解码\n",
    "    resultstr = ''\n",
    "    for i in range(n_len):\n",
    "        resultstr += str(np.argmax(result[i])) + ','\n",
    "    return resultstr\n",
    "\n",
    "index = random.randint(0, n_test-1)\n",
    "y_pred = model.predict(X_test[index].reshape(1, height, width*n_len, 1))\n",
    "\n",
    "plt.title('real: %s\\npred:%s'%(get_result([y_test[x][index] for x in range(n_len)]), get_result(y_pred)))\n",
    "plt.imshow(X_test[index,:,:,0], cmap='gray')\n",
    "plt.axis('off')"
   ]
  },
  {
   "cell_type": "markdown",
   "metadata": {},
   "source": [
    "### 保存模型\n",
    "\n",
    "模型达到满意的效果以后，我们需要保存模型，以便下次调用。\n",
    "\n",
    "读取的方式也很简单：`model = load_model('model.h5')`"
   ]
  },
  {
   "cell_type": "code",
   "execution_count": 15,
   "metadata": {
    "collapsed": true
   },
   "outputs": [],
   "source": [
    "model.save('model.h5')"
   ]
  }
 ],
 "metadata": {
  "anaconda-cloud": {},
  "kernelspec": {
   "display_name": "Python 2",
   "language": "python",
   "name": "python2"
  },
  "language_info": {
   "codemirror_mode": {
    "name": "ipython",
    "version": 2
   },
   "file_extension": ".py",
   "mimetype": "text/x-python",
   "name": "python",
   "nbconvert_exporter": "python",
   "pygments_lexer": "ipython2",
   "version": "2.7.14"
  }
 },
 "nbformat": 4,
 "nbformat_minor": 1
}
